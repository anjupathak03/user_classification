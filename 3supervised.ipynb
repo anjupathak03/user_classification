{
 "cells": [
  {
   "cell_type": "code",
   "execution_count": 1,
   "id": "49fe2b04-1dd7-488e-ae78-2af64c8fb5f7",
   "metadata": {},
   "outputs": [
    {
     "name": "stdout",
     "output_type": "stream",
     "text": [
      "Requirement already satisfied: numpy in c:\\users\\anjup\\appdata\\local\\newkernel\\new-venv\\lib\\site-packages (1.26.4)\n"
     ]
    }
   ],
   "source": [
    "! pip install numpy"
   ]
  },
  {
   "cell_type": "code",
   "execution_count": 2,
   "id": "75da958e-ef4a-49a7-b0b2-bcf75aac796d",
   "metadata": {},
   "outputs": [
    {
     "name": "stdout",
     "output_type": "stream",
     "text": [
      "Requirement already satisfied: pandas in c:\\users\\anjup\\appdata\\local\\newkernel\\new-venv\\lib\\site-packages (2.2.3)\n",
      "Requirement already satisfied: numpy>=1.23.2 in c:\\users\\anjup\\appdata\\local\\newkernel\\new-venv\\lib\\site-packages (from pandas) (1.26.4)\n",
      "Requirement already satisfied: python-dateutil>=2.8.2 in c:\\users\\anjup\\appdata\\local\\newkernel\\new-venv\\lib\\site-packages (from pandas) (2.9.0.post0)\n",
      "Requirement already satisfied: pytz>=2020.1 in c:\\users\\anjup\\appdata\\local\\newkernel\\new-venv\\lib\\site-packages (from pandas) (2025.2)\n",
      "Requirement already satisfied: tzdata>=2022.7 in c:\\users\\anjup\\appdata\\local\\newkernel\\new-venv\\lib\\site-packages (from pandas) (2025.2)\n",
      "Requirement already satisfied: six>=1.5 in c:\\users\\anjup\\appdata\\local\\newkernel\\new-venv\\lib\\site-packages (from python-dateutil>=2.8.2->pandas) (1.17.0)\n"
     ]
    }
   ],
   "source": [
    "! pip install pandas"
   ]
  },
  {
   "cell_type": "code",
   "execution_count": 3,
   "id": "52ee9848-f4a3-4323-902d-456778ebfa13",
   "metadata": {},
   "outputs": [],
   "source": [
    "import pandas as pd\n",
    "import numpy as np"
   ]
  },
  {
   "cell_type": "code",
   "execution_count": 4,
   "id": "413f0c56-98da-4dd1-bcb5-c3bcaff684d9",
   "metadata": {},
   "outputs": [
    {
     "data": {
      "text/plain": [
       "(1244184, 2)"
      ]
     },
     "execution_count": 4,
     "metadata": {},
     "output_type": "execute_result"
    }
   ],
   "source": [
    "news_data = pd.read_csv(\"C:\\\\Users\\\\anjup\\\\Downloads\\\\abcnews-date-text.csv\")\n",
    "news_data.shape"
   ]
  },
  {
   "cell_type": "code",
   "execution_count": 5,
   "id": "b263efb6-59f9-4875-ad06-ce0fdf0c2b6f",
   "metadata": {},
   "outputs": [],
   "source": [
    "NUM_SAMPLES = 20000 # The number of sample to use\n",
    "\n",
    "df = news_data.sample(NUM_SAMPLES, replace=False, random_state=42).reset_index(drop=True)"
   ]
  },
  {
   "cell_type": "code",
   "execution_count": 6,
   "id": "6eda6f0b-8d2d-4360-85c1-15e4d0b8f429",
   "metadata": {},
   "outputs": [
    {
     "name": "stdout",
     "output_type": "stream",
     "text": [
      "Requirement already satisfied: gensim in c:\\users\\anjup\\appdata\\local\\newkernel\\new-venv\\lib\\site-packages (4.3.3)\n",
      "Requirement already satisfied: numpy<2.0,>=1.18.5 in c:\\users\\anjup\\appdata\\local\\newkernel\\new-venv\\lib\\site-packages (from gensim) (1.26.4)\n",
      "Requirement already satisfied: scipy<1.14.0,>=1.7.0 in c:\\users\\anjup\\appdata\\local\\newkernel\\new-venv\\lib\\site-packages (from gensim) (1.13.1)\n",
      "Requirement already satisfied: smart-open>=1.8.1 in c:\\users\\anjup\\appdata\\local\\newkernel\\new-venv\\lib\\site-packages (from gensim) (7.1.0)\n",
      "Requirement already satisfied: wrapt in c:\\users\\anjup\\appdata\\local\\newkernel\\new-venv\\lib\\site-packages (from smart-open>=1.8.1->gensim) (1.17.2)\n"
     ]
    }
   ],
   "source": [
    "! pip install gensim"
   ]
  },
  {
   "cell_type": "code",
   "execution_count": 7,
   "id": "49aff567-578f-487a-8271-1bc4d1706ef5",
   "metadata": {},
   "outputs": [
    {
     "name": "stdout",
     "output_type": "stream",
     "text": [
      "Requirement already satisfied: nltk in c:\\users\\anjup\\appdata\\local\\newkernel\\new-venv\\lib\\site-packages (3.9.1)\n",
      "Requirement already satisfied: click in c:\\users\\anjup\\appdata\\local\\newkernel\\new-venv\\lib\\site-packages (from nltk) (8.1.8)\n",
      "Requirement already satisfied: joblib in c:\\users\\anjup\\appdata\\local\\newkernel\\new-venv\\lib\\site-packages (from nltk) (1.4.2)\n",
      "Requirement already satisfied: regex>=2021.8.3 in c:\\users\\anjup\\appdata\\local\\newkernel\\new-venv\\lib\\site-packages (from nltk) (2024.11.6)\n",
      "Requirement already satisfied: tqdm in c:\\users\\anjup\\appdata\\local\\newkernel\\new-venv\\lib\\site-packages (from nltk) (4.67.1)\n",
      "Requirement already satisfied: colorama in c:\\users\\anjup\\appdata\\local\\newkernel\\new-venv\\lib\\site-packages (from click->nltk) (0.4.6)\n"
     ]
    }
   ],
   "source": [
    "! pip install nltk\n"
   ]
  },
  {
   "cell_type": "code",
   "execution_count": 8,
   "id": "91882f15-7a51-43a8-bdb4-3c60298939e9",
   "metadata": {},
   "outputs": [
    {
     "name": "stderr",
     "output_type": "stream",
     "text": [
      "[nltk_data] Downloading package punkt to\n",
      "[nltk_data]     C:\\Users\\anjup\\AppData\\Roaming\\nltk_data...\n",
      "[nltk_data]   Package punkt is already up-to-date!\n"
     ]
    },
    {
     "data": {
      "text/plain": [
       "True"
      ]
     },
     "execution_count": 8,
     "metadata": {},
     "output_type": "execute_result"
    }
   ],
   "source": [
    "import nltk\n",
    "nltk.download('punkt')\n"
   ]
  },
  {
   "cell_type": "code",
   "execution_count": 9,
   "id": "6bad97db-ee2f-457b-b066-608223fe2033",
   "metadata": {},
   "outputs": [
    {
     "name": "stderr",
     "output_type": "stream",
     "text": [
      "[nltk_data] Downloading package punkt_tab to\n",
      "[nltk_data]     C:\\Users\\anjup\\AppData\\Roaming\\nltk_data...\n",
      "[nltk_data]   Package punkt_tab is already up-to-date!\n"
     ]
    },
    {
     "data": {
      "text/plain": [
       "True"
      ]
     },
     "execution_count": 9,
     "metadata": {},
     "output_type": "execute_result"
    }
   ],
   "source": [
    "nltk.download('punkt_tab')\n"
   ]
  },
  {
   "cell_type": "code",
   "execution_count": 10,
   "id": "06e3857d-3824-4df8-b123-c38ec0d07a20",
   "metadata": {},
   "outputs": [
    {
     "name": "stderr",
     "output_type": "stream",
     "text": [
      "[nltk_data] Downloading package punkt to\n",
      "[nltk_data]     C:\\Users\\anjup\\AppData\\Roaming\\nltk_data...\n",
      "[nltk_data]   Package punkt is already up-to-date!\n",
      "[nltk_data] Downloading package stopwords to\n",
      "[nltk_data]     C:\\Users\\anjup\\AppData\\Roaming\\nltk_data...\n",
      "[nltk_data]   Package stopwords is already up-to-date!\n"
     ]
    },
    {
     "name": "stdout",
     "output_type": "stream",
     "text": [
      "Topic 0: 0.006*\"drug\" + 0.004*\"deal\" + 0.004*\"media\" + 0.004*\"mayor\" + 0.004*\"future\" + 0.004*\"pay\" + 0.004*\"rejects\" + 0.004*\"told\" + 0.004*\"river\" + 0.003*\"research\"\n",
      "Topic 1: 0.004*\"life\" + 0.004*\"say\" + 0.004*\"funds\" + 0.004*\"job\" + 0.004*\"anti\" + 0.004*\"war\" + 0.004*\"un\" + 0.004*\"korea\" + 0.004*\"aussie\" + 0.004*\"cuts\"\n",
      "Topic 2: 0.006*\"found\" + 0.006*\"calls\" + 0.006*\"attack\" + 0.005*\"farmers\" + 0.005*\"charges\" + 0.005*\"face\" + 0.004*\"top\" + 0.004*\"tourism\" + 0.004*\"arrested\" + 0.003*\"nrl\"\n",
      "Topic 3: 0.009*\"police\" + 0.008*\"man\" + 0.007*\"new\" + 0.006*\"says\" + 0.005*\"interview\" + 0.005*\"nsw\" + 0.005*\"court\" + 0.005*\"govt\" + 0.005*\"us\" + 0.005*\"council\"\n",
      "Topic 4: 0.007*\"coast\" + 0.005*\"gold\" + 0.005*\"country\" + 0.004*\"review\" + 0.004*\"drought\" + 0.004*\"budget\" + 0.004*\"mine\" + 0.004*\"jobs\" + 0.004*\"could\" + 0.003*\"bid\"\n",
      "Topic 5: 0.008*\"rural\" + 0.007*\"news\" + 0.005*\"faces\" + 0.004*\"afl\" + 0.004*\"lead\" + 0.004*\"bushfire\" + 0.004*\"flood\" + 0.004*\"blaze\" + 0.003*\"denies\" + 0.003*\"storm\"\n",
      "Topic 6: 0.006*\"abc\" + 0.005*\"funding\" + 0.005*\"pm\" + 0.005*\"health\" + 0.005*\"open\" + 0.005*\"weather\" + 0.004*\"mp\" + 0.004*\"former\" + 0.004*\"study\" + 0.004*\"change\"\n"
     ]
    }
   ],
   "source": [
    "import gensim\n",
    "from gensim import corpora, models\n",
    "import nltk\n",
    "from nltk.corpus import stopwords\n",
    "\n",
    "nltk.download('punkt')\n",
    "nltk.download('stopwords')\n",
    "\n",
    "stop_words = set(stopwords.words('english'))\n",
    "\n",
    "# ----- Preprocessing -----\n",
    "def preprocess(doc):\n",
    "    tokens = nltk.word_tokenize(doc.lower())\n",
    "    return [token for token in tokens if token.isalpha() and token not in stop_words]\n",
    "\n",
    "texts = [preprocess(doc) for doc in df['headline_text'].dropna()]\n",
    "\n",
    "# ----- Dictionary and BoW Corpus -----\n",
    "dictionary = corpora.Dictionary(texts)\n",
    "bow_corpus = [dictionary.doc2bow(text) for text in texts]\n",
    "\n",
    "# ----- TF-IDF Transformation -----\n",
    "tfidf_model = models.TfidfModel(bow_corpus)\n",
    "tfidf_corpus = tfidf_model[bow_corpus]\n",
    "\n",
    "# ----- LDA using TF-IDF corpus -----\n",
    "lda_model = gensim.models.LdaModel(\n",
    "    corpus=tfidf_corpus,\n",
    "    id2word=dictionary,\n",
    "    num_topics=7,\n",
    "    random_state=42,\n",
    "    passes=15,\n",
    "    alpha='auto',\n",
    "    per_word_topics=True\n",
    ")\n",
    "\n",
    "# Optional: Print topics\n",
    "for idx, topic in lda_model.print_topics(-1):\n",
    "    print(f\"Topic {idx}: {topic}\")"
   ]
  },
  {
   "cell_type": "code",
   "execution_count": 11,
   "id": "6cfa8ab0-8431-4e0b-841f-c8e474885c1d",
   "metadata": {},
   "outputs": [
    {
     "name": "stdout",
     "output_type": "stream",
     "text": [
      "Requirement already satisfied: scikit-learn in c:\\users\\anjup\\appdata\\local\\newkernel\\new-venv\\lib\\site-packages (1.6.1)\n",
      "Requirement already satisfied: numpy>=1.19.5 in c:\\users\\anjup\\appdata\\local\\newkernel\\new-venv\\lib\\site-packages (from scikit-learn) (1.26.4)\n",
      "Requirement already satisfied: scipy>=1.6.0 in c:\\users\\anjup\\appdata\\local\\newkernel\\new-venv\\lib\\site-packages (from scikit-learn) (1.13.1)\n",
      "Requirement already satisfied: joblib>=1.2.0 in c:\\users\\anjup\\appdata\\local\\newkernel\\new-venv\\lib\\site-packages (from scikit-learn) (1.4.2)\n",
      "Requirement already satisfied: threadpoolctl>=3.1.0 in c:\\users\\anjup\\appdata\\local\\newkernel\\new-venv\\lib\\site-packages (from scikit-learn) (3.6.0)\n"
     ]
    }
   ],
   "source": [
    "! pip install scikit-learn\n"
   ]
  },
  {
   "cell_type": "code",
   "execution_count": 12,
   "id": "c762140b-0900-490d-803d-bdd773c133c4",
   "metadata": {},
   "outputs": [
    {
     "name": "stdout",
     "output_type": "stream",
     "text": [
      " Coherence Score: 0.6199605265595644\n"
     ]
    }
   ],
   "source": [
    "from gensim.models import CoherenceModel\n",
    "from sklearn.metrics import silhouette_score\n",
    "import numpy as np\n",
    "\n",
    "# ---------- Coherence Score ----------\n",
    "coherence_model_lda = CoherenceModel(model=lda_model,\n",
    "                                     texts=texts,\n",
    "                                     dictionary=dictionary,\n",
    "                                     coherence='c_v')\n",
    "coherence_score_lda = coherence_model_lda.get_coherence()\n",
    "print(\" Coherence Score:\", coherence_score_lda)"
   ]
  },
  {
   "cell_type": "code",
   "execution_count": 13,
   "id": "e23b8048-0640-43fc-b768-d636598986bd",
   "metadata": {},
   "outputs": [
    {
     "name": "stdout",
     "output_type": "stream",
     "text": [
      "📈 Silhouette Score (LDA + TF-IDF): -0.0704\n"
     ]
    }
   ],
   "source": [
    "from sklearn.feature_extraction.text import TfidfVectorizer\n",
    "from sklearn.metrics import silhouette_score\n",
    "import numpy as np\n",
    "\n",
    "# Step 1: Convert processed texts to TF-IDF vectors\n",
    "processed_docs = [\" \".join(text) for text in texts]  # Join tokens into strings\n",
    "vectorizer = TfidfVectorizer(max_features=1000)\n",
    "tfidf_matrix = vectorizer.fit_transform(processed_docs)\n",
    "\n",
    "# Step 2: Assign LDA topic to each document\n",
    "topic_assignments = []\n",
    "for bow in [dictionary.doc2bow(text) for text in texts]:\n",
    "    topic_probs = lda_model.get_document_topics(bow)\n",
    "    top_topic = max(topic_probs, key=lambda x: x[1])[0]  # Most probable topic\n",
    "    topic_assignments.append(top_topic)\n",
    "\n",
    "labels = np.array(topic_assignments)\n",
    "\n",
    "# Step 3: Compute Silhouette Score\n",
    "if np.unique(labels).size > 1:\n",
    "    sil_score = silhouette_score(tfidf_matrix, labels)\n",
    "    print(\"📈 Silhouette Score (LDA + TF-IDF):\", round(sil_score, 4))\n",
    "else:\n",
    "    print(\"⚠️ Not enough distinct topics for Silhouette Score.\")"
   ]
  },
  {
   "cell_type": "code",
   "execution_count": 14,
   "id": "ea40ca64-df03-4eef-b603-62af8095ec80",
   "metadata": {},
   "outputs": [],
   "source": [
    "from gensim import corpora, models\n",
    "\n",
    "# Create dictionary and corpus\n",
    "dictionary = corpora.Dictionary(texts)\n",
    "bow_corpus = [dictionary.doc2bow(text) for text in texts]\n",
    "\n",
    "# Train LDA model\n",
    "lda_model = models.LdaModel(\n",
    "    corpus=bow_corpus,\n",
    "    id2word=dictionary,\n",
    "    num_topics=7,\n",
    "    passes=10,\n",
    "    iterations=150,\n",
    "    alpha='symmetric',\n",
    "    eta='auto',\n",
    "    random_state=42,\n",
    "    per_word_topics=True\n",
    ")"
   ]
  },
  {
   "cell_type": "code",
   "execution_count": 15,
   "id": "86cbf2aa-17fa-4747-9038-246907f110f5",
   "metadata": {},
   "outputs": [],
   "source": [
    "# Customize this mapping based on your dataset\n",
    "user_type_accounts = {\n",
    "    0: 'Professional',\n",
    "    1: 'soc.religion.christian',\n",
    "    2: 'rec.sport.baseball',\n",
    "    3: 'Mixed Type',\n",
    "    4: 'Celebrity',\n",
    "    5: 'talk.politics.misc'\n",
    "}"
   ]
  },
  {
   "cell_type": "code",
   "execution_count": 16,
   "id": "359a214e-0cc1-43b9-9811-07af119859b2",
   "metadata": {},
   "outputs": [],
   "source": [
    "# Get dominant topic\n",
    "topic_predictions = [lda_model.get_document_topics(doc, minimum_probability=0.1) for doc in bow_corpus]\n",
    "\n",
    "# Predict user type based on dominant topicsdf\n",
    "user_type_account_predictions = []\n",
    "\n",
    "for topic_dist in topic_predictions:\n",
    "    if topic_dist:\n",
    "        dominant_topic = max(topic_dist, key=lambda x: x[1])[0]\n",
    "    else:\n",
    "        dominant_topic = -1  # Handle empty case\n",
    "    user_type = user_type_accounts.get(dominant_topic, 'Unknown')\n",
    "    user_type_account_predictions.append(user_type)\n",
    "\n",
    "# Add to dataframe\n",
    "df['predicted_user_type'] = user_type_account_predictions"
   ]
  },
  {
   "cell_type": "code",
   "execution_count": 17,
   "id": "f93eb4cd-e97c-4584-8b3b-e9e8a32d50d1",
   "metadata": {},
   "outputs": [],
   "source": [
    "from sklearn.preprocessing import LabelEncoder\n",
    "\n",
    "label_encoder = LabelEncoder()\n",
    "df['topic_label'] = label_encoder.fit_transform(df['predicted_user_type'])\n",
    "\n",
    "# Extract the label array for training\n",
    "y = df['topic_label'].values"
   ]
  },
  {
   "cell_type": "code",
   "execution_count": 18,
   "id": "ddc24d05-7f4e-4c6c-bf2c-94b805e16c4a",
   "metadata": {},
   "outputs": [],
   "source": [
    "import numpy as np\n",
    "\n",
    "# Each document → topic distribution vector\n",
    "corpus_bow = [dictionary.doc2bow(text) for text in texts]\n",
    "topic_distributions = []\n",
    "\n",
    "for doc_bow in corpus_bow:\n",
    "    topic_dist = lda_model.get_document_topics(doc_bow, minimum_probability=0.0)\n",
    "    topic_vector = [prob for _, prob in topic_dist]\n",
    "    topic_distributions.append(topic_vector)\n",
    "\n",
    "X = np.array(topic_distributions)"
   ]
  },
  {
   "cell_type": "code",
   "execution_count": 19,
   "id": "1b4a43a2-d557-480b-9333-e35e0e7b6c8f",
   "metadata": {},
   "outputs": [
    {
     "name": "stdout",
     "output_type": "stream",
     "text": [
      "📊 Logistic Regression Accuracy: 0.961\n",
      "\n",
      "📝 Classification Report (Logistic Regression):\n",
      "\n",
      "              precision    recall  f1-score   support\n",
      "\n",
      "           0       0.96      0.95      0.95       558\n",
      "           1       0.99      0.96      0.97       626\n",
      "           2       0.99      0.95      0.97       592\n",
      "           3       0.96      0.97      0.96       580\n",
      "           4       0.95      0.97      0.96       570\n",
      "           5       0.95      0.97      0.96       509\n",
      "           6       0.93      0.96      0.94       565\n",
      "\n",
      "    accuracy                           0.96      4000\n",
      "   macro avg       0.96      0.96      0.96      4000\n",
      "weighted avg       0.96      0.96      0.96      4000\n",
      "\n"
     ]
    }
   ],
   "source": [
    "from sklearn.model_selection import train_test_split\n",
    "from sklearn.linear_model import LogisticRegression\n",
    "from sklearn.metrics import accuracy_score, classification_report\n",
    "\n",
    "X_train, X_test, y_train, y_test = train_test_split(X, y, test_size=0.2, random_state=42)\n",
    "log_reg = LogisticRegression(max_iter=1000, random_state=42)\n",
    "log_reg.fit(X_train, y_train)\n",
    "y_pred_log = log_reg.predict(X_test)\n",
    "\n",
    "print(\"📊 Logistic Regression Accuracy:\", round(accuracy_score(y_test, y_pred_log), 4))\n",
    "print(\"\\n📝 Classification Report (Logistic Regression):\\n\")\n",
    "print(classification_report(y_test, y_pred_log))"
   ]
  },
  {
   "cell_type": "code",
   "execution_count": 20,
   "id": "6a2a86c9-da75-4c32-9cb9-2a0f692e80d5",
   "metadata": {},
   "outputs": [
    {
     "name": "stdout",
     "output_type": "stream",
     "text": [
      "\n",
      "🌲 Random Forest Accuracy: 0.9768\n",
      "\n",
      "📝 Classification Report (Random Forest):\n",
      "\n",
      "              precision    recall  f1-score   support\n",
      "\n",
      "           0       0.97      0.97      0.97       558\n",
      "           1       0.98      0.99      0.98       626\n",
      "           2       0.98      0.97      0.97       592\n",
      "           3       0.97      0.98      0.98       580\n",
      "           4       0.99      0.98      0.99       570\n",
      "           5       0.98      0.97      0.97       509\n",
      "           6       0.97      0.98      0.98       565\n",
      "\n",
      "    accuracy                           0.98      4000\n",
      "   macro avg       0.98      0.98      0.98      4000\n",
      "weighted avg       0.98      0.98      0.98      4000\n",
      "\n"
     ]
    }
   ],
   "source": [
    "from sklearn.ensemble import RandomForestClassifier\n",
    "\n",
    "rf_model = RandomForestClassifier(n_estimators=100, random_state=42)\n",
    "rf_model.fit(X_train, y_train)\n",
    "y_pred_rf = rf_model.predict(X_test)\n",
    "\n",
    "print(\"\\n🌲 Random Forest Accuracy:\", round(accuracy_score(y_test, y_pred_rf), 4))\n",
    "print(\"\\n📝 Classification Report (Random Forest):\\n\")\n",
    "print(classification_report(y_test, y_pred_rf))"
   ]
  },
  {
   "cell_type": "code",
   "execution_count": 21,
   "id": "82779166-f18e-428c-9fa3-0b44c0088724",
   "metadata": {},
   "outputs": [
    {
     "name": "stdout",
     "output_type": "stream",
     "text": [
      "\n",
      "🧠 Naive Bayes Accuracy: 0.9545\n",
      "\n",
      "📝 Classification Report (Naive Bayes):\n",
      "\n",
      "              precision    recall  f1-score   support\n",
      "\n",
      "           0       0.96      0.94      0.95       558\n",
      "           1       1.00      0.91      0.95       626\n",
      "           2       0.97      0.95      0.96       592\n",
      "           3       0.95      0.96      0.96       580\n",
      "           4       0.97      0.95      0.96       570\n",
      "           5       0.93      0.97      0.95       509\n",
      "           6       0.91      1.00      0.95       565\n",
      "\n",
      "    accuracy                           0.95      4000\n",
      "   macro avg       0.95      0.96      0.95      4000\n",
      "weighted avg       0.96      0.95      0.95      4000\n",
      "\n"
     ]
    }
   ],
   "source": [
    "from sklearn.naive_bayes import GaussianNB\n",
    "from sklearn.metrics import accuracy_score, classification_report\n",
    "\n",
    "# Instantiate and train the Naive Bayes model\n",
    "nb_model = GaussianNB()\n",
    "nb_model.fit(X_train, y_train)\n",
    "\n",
    "# Make predictions\n",
    "y_pred_nb = nb_model.predict(X_test)\n",
    "\n",
    "# Print accuracy and classification report\n",
    "print(\"\\n🧠 Naive Bayes Accuracy:\", round(accuracy_score(y_test, y_pred_nb), 4))\n",
    "print(\"\\n📝 Classification Report (Naive Bayes):\\n\")\n",
    "print(classification_report(y_test, y_pred_nb))"
   ]
  },
  {
   "cell_type": "code",
   "execution_count": null,
   "id": "cef258da-45b6-452d-b43b-bb616f080264",
   "metadata": {},
   "outputs": [],
   "source": []
  }
 ],
 "metadata": {
  "kernelspec": {
   "display_name": "MyNewVenv",
   "language": "python",
   "name": "mynewvenv"
  },
  "language_info": {
   "codemirror_mode": {
    "name": "ipython",
    "version": 3
   },
   "file_extension": ".py",
   "mimetype": "text/x-python",
   "name": "python",
   "nbconvert_exporter": "python",
   "pygments_lexer": "ipython3",
   "version": "3.11.8"
  }
 },
 "nbformat": 4,
 "nbformat_minor": 5
}
