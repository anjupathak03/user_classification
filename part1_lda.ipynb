{
 "cells": [
  {
   "cell_type": "code",
   "execution_count": null,
   "id": "49fe2b04-1dd7-488e-ae78-2af64c8fb5f7",
   "metadata": {},
   "outputs": [
    {
     "name": "stdout",
     "output_type": "stream",
     "text": [
      "Requirement already satisfied: numpy in c:\\users\\anjup\\appdata\\local\\newkernel\\new-venv\\lib\\site-packages (1.26.4)\n"
     ]
    }
   ],
   "source": [
    "! pip install numpy #to install the NumPy package."
   ]
  },
  {
   "cell_type": "code",
   "execution_count": null,
   "id": "75da958e-ef4a-49a7-b0b2-bcf75aac796d",
   "metadata": {},
   "outputs": [
    {
     "name": "stdout",
     "output_type": "stream",
     "text": [
      "Requirement already satisfied: pandas in c:\\users\\anjup\\appdata\\local\\newkernel\\new-venv\\lib\\site-packages (2.2.3)\n",
      "Requirement already satisfied: numpy>=1.23.2 in c:\\users\\anjup\\appdata\\local\\newkernel\\new-venv\\lib\\site-packages (from pandas) (1.26.4)\n",
      "Requirement already satisfied: python-dateutil>=2.8.2 in c:\\users\\anjup\\appdata\\local\\newkernel\\new-venv\\lib\\site-packages (from pandas) (2.9.0.post0)\n",
      "Requirement already satisfied: pytz>=2020.1 in c:\\users\\anjup\\appdata\\local\\newkernel\\new-venv\\lib\\site-packages (from pandas) (2025.2)\n",
      "Requirement already satisfied: tzdata>=2022.7 in c:\\users\\anjup\\appdata\\local\\newkernel\\new-venv\\lib\\site-packages (from pandas) (2025.2)\n",
      "Requirement already satisfied: six>=1.5 in c:\\users\\anjup\\appdata\\local\\newkernel\\new-venv\\lib\\site-packages (from python-dateutil>=2.8.2->pandas) (1.17.0)\n"
     ]
    }
   ],
   "source": [
    "! pip install pandas # to install pandas"
   ]
  },
  {
   "cell_type": "code",
   "execution_count": null,
   "id": "52ee9848-f4a3-4323-902d-456778ebfa13",
   "metadata": {},
   "outputs": [],
   "source": [
    "import pandas as pd #This line is importing the pandas library and giving it a short name pd.We use pd later in the code instead of writing pandas every time.Pandas helps in working with tables, spreadsheets, and data analysis.\n",
    "import numpy as np # NumPy is super fast and helps when we want to do calculations on lists or large sets of numbers."
   ]
  },
  {
   "cell_type": "code",
   "execution_count": null,
   "id": "413f0c56-98da-4dd1-bcb5-c3bcaff684d9",
   "metadata": {},
   "outputs": [
    {
     "data": {
      "text/plain": [
       "(1244184, 2)"
      ]
     },
     "execution_count": 5,
     "metadata": {},
     "output_type": "execute_result"
    }
   ],
   "source": [
    "news_data = pd.read_csv(\"C:\\\\Users\\\\anjup\\\\Downloads\\\\abcnews-date-text.csv\")   #pd.read_csv(...) is a pandas function that loads the file into Python as a table.\n",
    "news_data.shape  #.shape tells rows and columns"
   ]
  },
  {
   "cell_type": "code",
   "execution_count": null,
   "id": "b263efb6-59f9-4875-ad06-ce0fdf0c2b6f",
   "metadata": {},
   "outputs": [],
   "source": [
    "NUM_SAMPLES = 20000 # The number of sample to use\n",
    "\n",
    "df = news_data.sample(NUM_SAMPLES, replace=False, random_state=42).reset_index(drop=True)"
   ]
  },
  {
   "cell_type": "code",
   "execution_count": null,
   "id": "6eda6f0b-8d2d-4360-85c1-15e4d0b8f429",
   "metadata": {},
   "outputs": [
    {
     "name": "stdout",
     "output_type": "stream",
     "text": [
      "Requirement already satisfied: gensim in c:\\users\\anjup\\appdata\\local\\newkernel\\new-venv\\lib\\site-packages (4.3.3)\n",
      "Requirement already satisfied: numpy<2.0,>=1.18.5 in c:\\users\\anjup\\appdata\\local\\newkernel\\new-venv\\lib\\site-packages (from gensim) (1.26.4)\n",
      "Requirement already satisfied: scipy<1.14.0,>=1.7.0 in c:\\users\\anjup\\appdata\\local\\newkernel\\new-venv\\lib\\site-packages (from gensim) (1.13.1)\n",
      "Requirement already satisfied: smart-open>=1.8.1 in c:\\users\\anjup\\appdata\\local\\newkernel\\new-venv\\lib\\site-packages (from gensim) (7.1.0)\n",
      "Requirement already satisfied: wrapt in c:\\users\\anjup\\appdata\\local\\newkernel\\new-venv\\lib\\site-packages (from smart-open>=1.8.1->gensim) (1.17.2)\n"
     ]
    }
   ],
   "source": [
    "! pip install gensim # used for topic modeling and word2vec"
   ]
  },
  {
   "cell_type": "code",
   "execution_count": null,
   "id": "49aff567-578f-487a-8271-1bc4d1706ef5",
   "metadata": {},
   "outputs": [
    {
     "name": "stdout",
     "output_type": "stream",
     "text": [
      "Requirement already satisfied: nltk in c:\\users\\anjup\\appdata\\local\\newkernel\\new-venv\\lib\\site-packages (3.9.1)\n",
      "Requirement already satisfied: click in c:\\users\\anjup\\appdata\\local\\newkernel\\new-venv\\lib\\site-packages (from nltk) (8.1.8)\n",
      "Requirement already satisfied: joblib in c:\\users\\anjup\\appdata\\local\\newkernel\\new-venv\\lib\\site-packages (from nltk) (1.4.2)\n",
      "Requirement already satisfied: regex>=2021.8.3 in c:\\users\\anjup\\appdata\\local\\newkernel\\new-venv\\lib\\site-packages (from nltk) (2024.11.6)\n",
      "Requirement already satisfied: tqdm in c:\\users\\anjup\\appdata\\local\\newkernel\\new-venv\\lib\\site-packages (from nltk) (4.67.1)\n",
      "Requirement already satisfied: colorama in c:\\users\\anjup\\appdata\\local\\newkernel\\new-venv\\lib\\site-packages (from click->nltk) (0.4.6)\n"
     ]
    }
   ],
   "source": [
    "! pip install nltk #Breaking text into words and sentences (tokenization)Removing stopwords (like \"the\", \"is\", \"and\")"
   ]
  },
  {
   "cell_type": "code",
   "execution_count": null,
   "id": "91882f15-7a51-43a8-bdb4-3c60298939e9",
   "metadata": {},
   "outputs": [
    {
     "name": "stderr",
     "output_type": "stream",
     "text": [
      "[nltk_data] Downloading package punkt to\n",
      "[nltk_data]     C:\\Users\\anjup\\AppData\\Roaming\\nltk_data...\n",
      "[nltk_data]   Package punkt is already up-to-date!\n"
     ]
    },
    {
     "data": {
      "text/plain": [
       "True"
      ]
     },
     "execution_count": 9,
     "metadata": {},
     "output_type": "execute_result"
    }
   ],
   "source": [
    "import nltk\n",
    "nltk.download('punkt') #pre-trained model in nltk, helps in sentence and word tokenization\n"
   ]
  },
  {
   "cell_type": "code",
   "execution_count": null,
   "id": "6bad97db-ee2f-457b-b066-608223fe2033",
   "metadata": {},
   "outputs": [
    {
     "name": "stderr",
     "output_type": "stream",
     "text": [
      "[nltk_data] Downloading package punkt_tab to\n",
      "[nltk_data]     C:\\Users\\anjup\\AppData\\Roaming\\nltk_data...\n",
      "[nltk_data]   Package punkt_tab is already up-to-date!\n"
     ]
    },
    {
     "data": {
      "text/plain": [
       "True"
      ]
     },
     "execution_count": 10,
     "metadata": {},
     "output_type": "execute_result"
    }
   ],
   "source": [
    "nltk.download('punkt_tab')\n"
   ]
  },
  {
   "cell_type": "code",
   "execution_count": null,
   "id": "06e3857d-3824-4df8-b123-c38ec0d07a20",
   "metadata": {},
   "outputs": [
    {
     "name": "stderr",
     "output_type": "stream",
     "text": [
      "[nltk_data] Downloading package punkt to\n",
      "[nltk_data]     C:\\Users\\anjup\\AppData\\Roaming\\nltk_data...\n",
      "[nltk_data]   Package punkt is already up-to-date!\n",
      "[nltk_data] Downloading package stopwords to\n",
      "[nltk_data]     C:\\Users\\anjup\\AppData\\Roaming\\nltk_data...\n",
      "[nltk_data]   Package stopwords is already up-to-date!\n"
     ]
    },
    {
     "name": "stdout",
     "output_type": "stream",
     "text": [
      "Topic 0: 0.007*\"new\" + 0.006*\"says\" + 0.005*\"nsw\" + 0.005*\"govt\" + 0.005*\"us\" + 0.005*\"council\" + 0.005*\"australia\" + 0.005*\"fire\" + 0.004*\"police\" + 0.004*\"plan\"\n",
      "Topic 1: 0.005*\"market\" + 0.005*\"rise\" + 0.004*\"boost\" + 0.004*\"country\" + 0.004*\"ban\" + 0.004*\"opposition\" + 0.004*\"price\" + 0.003*\"tourism\" + 0.003*\"industry\" + 0.003*\"housing\"\n",
      "Topic 2: 0.006*\"health\" + 0.006*\"death\" + 0.005*\"home\" + 0.004*\"indigenous\" + 0.004*\"drug\" + 0.004*\"nt\" + 0.004*\"farmers\" + 0.004*\"probe\" + 0.004*\"business\" + 0.004*\"missing\"\n",
      "Topic 3: 0.013*\"man\" + 0.007*\"court\" + 0.007*\"police\" + 0.006*\"charged\" + 0.006*\"crash\" + 0.005*\"election\" + 0.005*\"car\" + 0.005*\"woman\" + 0.005*\"killed\" + 0.005*\"murder\"\n",
      "Topic 4: 0.004*\"media\" + 0.003*\"highway\" + 0.003*\"charge\" + 0.003*\"shot\" + 0.003*\"arrest\" + 0.003*\"bush\" + 0.003*\"pacific\" + 0.003*\"floods\" + 0.003*\"delays\" + 0.003*\"long\"\n",
      "Topic 5: 0.010*\"interview\" + 0.006*\"news\" + 0.006*\"rural\" + 0.005*\"national\" + 0.005*\"first\" + 0.003*\"afl\" + 0.003*\"violence\" + 0.003*\"mining\" + 0.003*\"run\" + 0.003*\"alleged\"\n"
     ]
    }
   ],
   "source": [
    "import gensim\n",
    "from gensim import corpora, models\n",
    "import nltk\n",
    "from nltk.corpus import stopwords\n",
    "\n",
    "nltk.download('punkt')\n",
    "nltk.download('stopwords')\n",
    "\n",
    "stop_words = set(stopwords.words('english'))\n",
    "\n",
    "# ----- Preprocessing -----\n",
    "def preprocess(doc):\n",
    "    tokens = nltk.word_tokenize(doc.lower())\n",
    "    return [token for token in tokens if token.isalpha() and token not in stop_words]\n",
    "\n",
    "texts = [preprocess(doc) for doc in df['headline_text'].dropna()]\n",
    "\n",
    "# ----- Dictionary and BoW Corpus -----\n",
    "dictionary = corpora.Dictionary(texts)\n",
    "bow_corpus = [dictionary.doc2bow(text) for text in texts]\n",
    "\n",
    "# ----- TF-IDF Transformation -----\n",
    "tfidf_model = models.TfidfModel(bow_corpus)\n",
    "tfidf_corpus = tfidf_model[bow_corpus]\n",
    "\n",
    "# ----- LDA using TF-IDF corpus -----\n",
    "lda_model = gensim.models.LdaModel(\n",
    "    corpus=tfidf_corpus,\n",
    "    id2word=dictionary,\n",
    "    num_topics=6,\n",
    "    random_state=42,\n",
    "    passes=15,\n",
    "    alpha='auto',\n",
    "    per_word_topics=True\n",
    ")\n",
    "\n",
    "# Optional: Print topics\n",
    "for idx, topic in lda_model.print_topics(-1):\n",
    "    print(f\"Topic {idx}: {topic}\")\n",
    "    #This code takes news headlines, cleans and tokenizes them, turns them into vectors, then applies LDA to find 6 hidden topics."
   ]
  },
  {
   "cell_type": "code",
   "execution_count": 12,
   "id": "6cfa8ab0-8431-4e0b-841f-c8e474885c1d",
   "metadata": {},
   "outputs": [
    {
     "name": "stdout",
     "output_type": "stream",
     "text": [
      "Requirement already satisfied: scikit-learn in c:\\users\\anjup\\appdata\\local\\newkernel\\new-venv\\lib\\site-packages (1.6.1)\n",
      "Requirement already satisfied: numpy>=1.19.5 in c:\\users\\anjup\\appdata\\local\\newkernel\\new-venv\\lib\\site-packages (from scikit-learn) (1.26.4)\n",
      "Requirement already satisfied: scipy>=1.6.0 in c:\\users\\anjup\\appdata\\local\\newkernel\\new-venv\\lib\\site-packages (from scikit-learn) (1.13.1)\n",
      "Requirement already satisfied: joblib>=1.2.0 in c:\\users\\anjup\\appdata\\local\\newkernel\\new-venv\\lib\\site-packages (from scikit-learn) (1.4.2)\n",
      "Requirement already satisfied: threadpoolctl>=3.1.0 in c:\\users\\anjup\\appdata\\local\\newkernel\\new-venv\\lib\\site-packages (from scikit-learn) (3.6.0)\n"
     ]
    }
   ],
   "source": [
    "! pip install scikit-learn\n"
   ]
  },
  {
   "cell_type": "code",
   "execution_count": 13,
   "id": "c762140b-0900-490d-803d-bdd773c133c4",
   "metadata": {},
   "outputs": [
    {
     "ename": "KeyboardInterrupt",
     "evalue": "",
     "output_type": "error",
     "traceback": [
      "\u001b[31m---------------------------------------------------------------------------\u001b[39m",
      "\u001b[31mKeyboardInterrupt\u001b[39m                         Traceback (most recent call last)",
      "\u001b[36mCell\u001b[39m\u001b[36m \u001b[39m\u001b[32mIn[13]\u001b[39m\u001b[32m, line 10\u001b[39m\n\u001b[32m      5\u001b[39m \u001b[38;5;66;03m# ---------- Coherence Score ----------\u001b[39;00m\n\u001b[32m      6\u001b[39m coherence_model_lda = CoherenceModel(model=lda_model,\n\u001b[32m      7\u001b[39m                                      texts=texts,\n\u001b[32m      8\u001b[39m                                      dictionary=dictionary,\n\u001b[32m      9\u001b[39m                                      coherence=\u001b[33m'\u001b[39m\u001b[33mc_v\u001b[39m\u001b[33m'\u001b[39m)\n\u001b[32m---> \u001b[39m\u001b[32m10\u001b[39m coherence_score_lda = \u001b[43mcoherence_model_lda\u001b[49m\u001b[43m.\u001b[49m\u001b[43mget_coherence\u001b[49m\u001b[43m(\u001b[49m\u001b[43m)\u001b[49m\n\u001b[32m     11\u001b[39m \u001b[38;5;28mprint\u001b[39m(\u001b[33m\"\u001b[39m\u001b[33m Coherence Score:\u001b[39m\u001b[33m\"\u001b[39m, coherence_score_lda)\n",
      "\u001b[36mFile \u001b[39m\u001b[32mc:\\Users\\anjup\\AppData\\Local\\NewKernel\\NEW-VENV\\Lib\\site-packages\\gensim\\models\\coherencemodel.py:614\u001b[39m, in \u001b[36mCoherenceModel.get_coherence\u001b[39m\u001b[34m(self)\u001b[39m\n\u001b[32m    605\u001b[39m \u001b[38;5;28;01mdef\u001b[39;00m\u001b[38;5;250m \u001b[39m\u001b[34mget_coherence\u001b[39m(\u001b[38;5;28mself\u001b[39m):\n\u001b[32m    606\u001b[39m \u001b[38;5;250m    \u001b[39m\u001b[33;03m\"\"\"Get coherence value based on pipeline parameters.\u001b[39;00m\n\u001b[32m    607\u001b[39m \n\u001b[32m    608\u001b[39m \u001b[33;03m    Returns\u001b[39;00m\n\u001b[32m   (...)\u001b[39m\u001b[32m    612\u001b[39m \n\u001b[32m    613\u001b[39m \u001b[33;03m    \"\"\"\u001b[39;00m\n\u001b[32m--> \u001b[39m\u001b[32m614\u001b[39m     confirmed_measures = \u001b[38;5;28;43mself\u001b[39;49m\u001b[43m.\u001b[49m\u001b[43mget_coherence_per_topic\u001b[49m\u001b[43m(\u001b[49m\u001b[43m)\u001b[49m\n\u001b[32m    615\u001b[39m     \u001b[38;5;28;01mreturn\u001b[39;00m \u001b[38;5;28mself\u001b[39m.aggregate_measures(confirmed_measures)\n",
      "\u001b[36mFile \u001b[39m\u001b[32mc:\\Users\\anjup\\AppData\\Local\\NewKernel\\NEW-VENV\\Lib\\site-packages\\gensim\\models\\coherencemodel.py:574\u001b[39m, in \u001b[36mCoherenceModel.get_coherence_per_topic\u001b[39m\u001b[34m(self, segmented_topics, with_std, with_support)\u001b[39m\n\u001b[32m    572\u001b[39m     segmented_topics = measure.seg(\u001b[38;5;28mself\u001b[39m.topics)\n\u001b[32m    573\u001b[39m \u001b[38;5;28;01mif\u001b[39;00m \u001b[38;5;28mself\u001b[39m._accumulator \u001b[38;5;129;01mis\u001b[39;00m \u001b[38;5;28;01mNone\u001b[39;00m:\n\u001b[32m--> \u001b[39m\u001b[32m574\u001b[39m     \u001b[38;5;28;43mself\u001b[39;49m\u001b[43m.\u001b[49m\u001b[43mestimate_probabilities\u001b[49m\u001b[43m(\u001b[49m\u001b[43msegmented_topics\u001b[49m\u001b[43m)\u001b[49m\n\u001b[32m    576\u001b[39m kwargs = \u001b[38;5;28mdict\u001b[39m(with_std=with_std, with_support=with_support)\n\u001b[32m    577\u001b[39m \u001b[38;5;28;01mif\u001b[39;00m \u001b[38;5;28mself\u001b[39m.coherence \u001b[38;5;129;01min\u001b[39;00m BOOLEAN_DOCUMENT_BASED \u001b[38;5;129;01mor\u001b[39;00m \u001b[38;5;28mself\u001b[39m.coherence == \u001b[33m'\u001b[39m\u001b[33mc_w2v\u001b[39m\u001b[33m'\u001b[39m:\n",
      "\u001b[36mFile \u001b[39m\u001b[32mc:\\Users\\anjup\\AppData\\Local\\NewKernel\\NEW-VENV\\Lib\\site-packages\\gensim\\models\\coherencemodel.py:546\u001b[39m, in \u001b[36mCoherenceModel.estimate_probabilities\u001b[39m\u001b[34m(self, segmented_topics)\u001b[39m\n\u001b[32m    543\u001b[39m     \u001b[38;5;28;01mif\u001b[39;00m \u001b[38;5;28mself\u001b[39m.coherence == \u001b[33m'\u001b[39m\u001b[33mc_w2v\u001b[39m\u001b[33m'\u001b[39m:\n\u001b[32m    544\u001b[39m         kwargs[\u001b[33m'\u001b[39m\u001b[33mmodel\u001b[39m\u001b[33m'\u001b[39m] = \u001b[38;5;28mself\u001b[39m.keyed_vectors\n\u001b[32m--> \u001b[39m\u001b[32m546\u001b[39m     \u001b[38;5;28mself\u001b[39m._accumulator = \u001b[38;5;28;43mself\u001b[39;49m\u001b[43m.\u001b[49m\u001b[43mmeasure\u001b[49m\u001b[43m.\u001b[49m\u001b[43mprob\u001b[49m\u001b[43m(\u001b[49m\u001b[43m*\u001b[49m\u001b[43m*\u001b[49m\u001b[43mkwargs\u001b[49m\u001b[43m)\u001b[49m\n\u001b[32m    548\u001b[39m \u001b[38;5;28;01mreturn\u001b[39;00m \u001b[38;5;28mself\u001b[39m._accumulator\n",
      "\u001b[36mFile \u001b[39m\u001b[32mc:\\Users\\anjup\\AppData\\Local\\NewKernel\\NEW-VENV\\Lib\\site-packages\\gensim\\topic_coherence\\probability_estimation.py:156\u001b[39m, in \u001b[36mp_boolean_sliding_window\u001b[39m\u001b[34m(texts, segmented_topics, dictionary, window_size, processes)\u001b[39m\n\u001b[32m    154\u001b[39m     accumulator = ParallelWordOccurrenceAccumulator(processes, top_ids, dictionary)\n\u001b[32m    155\u001b[39m logger.info(\u001b[33m\"\u001b[39m\u001b[33musing \u001b[39m\u001b[38;5;132;01m%s\u001b[39;00m\u001b[33m to estimate probabilities from sliding windows\u001b[39m\u001b[33m\"\u001b[39m, accumulator)\n\u001b[32m--> \u001b[39m\u001b[32m156\u001b[39m \u001b[38;5;28;01mreturn\u001b[39;00m \u001b[43maccumulator\u001b[49m\u001b[43m.\u001b[49m\u001b[43maccumulate\u001b[49m\u001b[43m(\u001b[49m\u001b[43mtexts\u001b[49m\u001b[43m,\u001b[49m\u001b[43m \u001b[49m\u001b[43mwindow_size\u001b[49m\u001b[43m)\u001b[49m\n",
      "\u001b[36mFile \u001b[39m\u001b[32mc:\\Users\\anjup\\AppData\\Local\\NewKernel\\NEW-VENV\\Lib\\site-packages\\gensim\\topic_coherence\\text_analysis.py:437\u001b[39m, in \u001b[36mParallelWordOccurrenceAccumulator.accumulate\u001b[39m\u001b[34m(self, texts, window_size)\u001b[39m\n\u001b[32m    436\u001b[39m \u001b[38;5;28;01mdef\u001b[39;00m\u001b[38;5;250m \u001b[39m\u001b[34maccumulate\u001b[39m(\u001b[38;5;28mself\u001b[39m, texts, window_size):\n\u001b[32m--> \u001b[39m\u001b[32m437\u001b[39m     workers, input_q, output_q = \u001b[38;5;28;43mself\u001b[39;49m\u001b[43m.\u001b[49m\u001b[43mstart_workers\u001b[49m\u001b[43m(\u001b[49m\u001b[43mwindow_size\u001b[49m\u001b[43m)\u001b[49m\n\u001b[32m    438\u001b[39m     \u001b[38;5;28;01mtry\u001b[39;00m:\n\u001b[32m    439\u001b[39m         \u001b[38;5;28mself\u001b[39m.queue_all_texts(input_q, texts, window_size)\n",
      "\u001b[36mFile \u001b[39m\u001b[32mc:\\Users\\anjup\\AppData\\Local\\NewKernel\\NEW-VENV\\Lib\\site-packages\\gensim\\topic_coherence\\text_analysis.py:471\u001b[39m, in \u001b[36mParallelWordOccurrenceAccumulator.start_workers\u001b[39m\u001b[34m(self, window_size)\u001b[39m\n\u001b[32m    469\u001b[39m     accumulator = PatchedWordOccurrenceAccumulator(\u001b[38;5;28mself\u001b[39m.relevant_ids, \u001b[38;5;28mself\u001b[39m.dictionary)\n\u001b[32m    470\u001b[39m     worker = AccumulatingWorker(input_q, output_q, accumulator, window_size)\n\u001b[32m--> \u001b[39m\u001b[32m471\u001b[39m     \u001b[43mworker\u001b[49m\u001b[43m.\u001b[49m\u001b[43mstart\u001b[49m\u001b[43m(\u001b[49m\u001b[43m)\u001b[49m\n\u001b[32m    472\u001b[39m     workers.append(worker)\n\u001b[32m    474\u001b[39m \u001b[38;5;28;01mreturn\u001b[39;00m workers, input_q, output_q\n",
      "\u001b[36mFile \u001b[39m\u001b[32m~\\AppData\\Local\\Programs\\Python\\Python311\\Lib\\multiprocessing\\process.py:121\u001b[39m, in \u001b[36mBaseProcess.start\u001b[39m\u001b[34m(self)\u001b[39m\n\u001b[32m    118\u001b[39m \u001b[38;5;28;01massert\u001b[39;00m \u001b[38;5;129;01mnot\u001b[39;00m _current_process._config.get(\u001b[33m'\u001b[39m\u001b[33mdaemon\u001b[39m\u001b[33m'\u001b[39m), \\\n\u001b[32m    119\u001b[39m        \u001b[33m'\u001b[39m\u001b[33mdaemonic processes are not allowed to have children\u001b[39m\u001b[33m'\u001b[39m\n\u001b[32m    120\u001b[39m _cleanup()\n\u001b[32m--> \u001b[39m\u001b[32m121\u001b[39m \u001b[38;5;28mself\u001b[39m._popen = \u001b[38;5;28;43mself\u001b[39;49m\u001b[43m.\u001b[49m\u001b[43m_Popen\u001b[49m\u001b[43m(\u001b[49m\u001b[38;5;28;43mself\u001b[39;49m\u001b[43m)\u001b[49m\n\u001b[32m    122\u001b[39m \u001b[38;5;28mself\u001b[39m._sentinel = \u001b[38;5;28mself\u001b[39m._popen.sentinel\n\u001b[32m    123\u001b[39m \u001b[38;5;66;03m# Avoid a refcycle if the target function holds an indirect\u001b[39;00m\n\u001b[32m    124\u001b[39m \u001b[38;5;66;03m# reference to the process object (see bpo-30775)\u001b[39;00m\n",
      "\u001b[36mFile \u001b[39m\u001b[32m~\\AppData\\Local\\Programs\\Python\\Python311\\Lib\\multiprocessing\\context.py:224\u001b[39m, in \u001b[36mProcess._Popen\u001b[39m\u001b[34m(process_obj)\u001b[39m\n\u001b[32m    222\u001b[39m \u001b[38;5;129m@staticmethod\u001b[39m\n\u001b[32m    223\u001b[39m \u001b[38;5;28;01mdef\u001b[39;00m\u001b[38;5;250m \u001b[39m\u001b[34m_Popen\u001b[39m(process_obj):\n\u001b[32m--> \u001b[39m\u001b[32m224\u001b[39m     \u001b[38;5;28;01mreturn\u001b[39;00m \u001b[43m_default_context\u001b[49m\u001b[43m.\u001b[49m\u001b[43mget_context\u001b[49m\u001b[43m(\u001b[49m\u001b[43m)\u001b[49m\u001b[43m.\u001b[49m\u001b[43mProcess\u001b[49m\u001b[43m.\u001b[49m\u001b[43m_Popen\u001b[49m\u001b[43m(\u001b[49m\u001b[43mprocess_obj\u001b[49m\u001b[43m)\u001b[49m\n",
      "\u001b[36mFile \u001b[39m\u001b[32m~\\AppData\\Local\\Programs\\Python\\Python311\\Lib\\multiprocessing\\context.py:336\u001b[39m, in \u001b[36mSpawnProcess._Popen\u001b[39m\u001b[34m(process_obj)\u001b[39m\n\u001b[32m    333\u001b[39m \u001b[38;5;129m@staticmethod\u001b[39m\n\u001b[32m    334\u001b[39m \u001b[38;5;28;01mdef\u001b[39;00m\u001b[38;5;250m \u001b[39m\u001b[34m_Popen\u001b[39m(process_obj):\n\u001b[32m    335\u001b[39m     \u001b[38;5;28;01mfrom\u001b[39;00m\u001b[38;5;250m \u001b[39m\u001b[34;01m.\u001b[39;00m\u001b[34;01mpopen_spawn_win32\u001b[39;00m\u001b[38;5;250m \u001b[39m\u001b[38;5;28;01mimport\u001b[39;00m Popen\n\u001b[32m--> \u001b[39m\u001b[32m336\u001b[39m     \u001b[38;5;28;01mreturn\u001b[39;00m \u001b[43mPopen\u001b[49m\u001b[43m(\u001b[49m\u001b[43mprocess_obj\u001b[49m\u001b[43m)\u001b[49m\n",
      "\u001b[36mFile \u001b[39m\u001b[32m~\\AppData\\Local\\Programs\\Python\\Python311\\Lib\\multiprocessing\\popen_spawn_win32.py:95\u001b[39m, in \u001b[36mPopen.__init__\u001b[39m\u001b[34m(self, process_obj)\u001b[39m\n\u001b[32m     93\u001b[39m \u001b[38;5;28;01mtry\u001b[39;00m:\n\u001b[32m     94\u001b[39m     reduction.dump(prep_data, to_child)\n\u001b[32m---> \u001b[39m\u001b[32m95\u001b[39m     \u001b[43mreduction\u001b[49m\u001b[43m.\u001b[49m\u001b[43mdump\u001b[49m\u001b[43m(\u001b[49m\u001b[43mprocess_obj\u001b[49m\u001b[43m,\u001b[49m\u001b[43m \u001b[49m\u001b[43mto_child\u001b[49m\u001b[43m)\u001b[49m\n\u001b[32m     96\u001b[39m \u001b[38;5;28;01mfinally\u001b[39;00m:\n\u001b[32m     97\u001b[39m     set_spawning_popen(\u001b[38;5;28;01mNone\u001b[39;00m)\n",
      "\u001b[36mFile \u001b[39m\u001b[32m~\\AppData\\Local\\Programs\\Python\\Python311\\Lib\\multiprocessing\\reduction.py:60\u001b[39m, in \u001b[36mdump\u001b[39m\u001b[34m(obj, file, protocol)\u001b[39m\n\u001b[32m     58\u001b[39m \u001b[38;5;28;01mdef\u001b[39;00m\u001b[38;5;250m \u001b[39m\u001b[34mdump\u001b[39m(obj, file, protocol=\u001b[38;5;28;01mNone\u001b[39;00m):\n\u001b[32m     59\u001b[39m \u001b[38;5;250m    \u001b[39m\u001b[33;03m'''Replacement for pickle.dump() using ForkingPickler.'''\u001b[39;00m\n\u001b[32m---> \u001b[39m\u001b[32m60\u001b[39m     \u001b[43mForkingPickler\u001b[49m\u001b[43m(\u001b[49m\u001b[43mfile\u001b[49m\u001b[43m,\u001b[49m\u001b[43m \u001b[49m\u001b[43mprotocol\u001b[49m\u001b[43m)\u001b[49m\u001b[43m.\u001b[49m\u001b[43mdump\u001b[49m\u001b[43m(\u001b[49m\u001b[43mobj\u001b[49m\u001b[43m)\u001b[49m\n",
      "\u001b[31mKeyboardInterrupt\u001b[39m: "
     ]
    }
   ],
   "source": [
    "from gensim.models import CoherenceModel\n",
    "from sklearn.metrics import silhouette_score\n",
    "import numpy as np\n",
    "\n",
    "# ---------- Coherence Score ----------\n",
    "coherence_model_lda = CoherenceModel(model=lda_model,\n",
    "                                     texts=texts,\n",
    "                                     dictionary=dictionary,\n",
    "                                     coherence='c_v')\n",
    "coherence_score_lda = coherence_model_lda.get_coherence()\n",
    "print(\" Coherence Score:\", coherence_score_lda)"
   ]
  },
  {
   "cell_type": "code",
   "execution_count": null,
   "id": "e23b8048-0640-43fc-b768-d636598986bd",
   "metadata": {},
   "outputs": [
    {
     "name": "stdout",
     "output_type": "stream",
     "text": [
      "📈 Silhouette Score (LDA + TF-IDF): -0.1212\n"
     ]
    }
   ],
   "source": [
    "from sklearn.feature_extraction.text import TfidfVectorizer\n",
    "from sklearn.metrics import silhouette_score\n",
    "import numpy as np\n",
    "\n",
    "# Step 1: Convert processed texts to TF-IDF vectors\n",
    "processed_docs = [\" \".join(text) for text in texts]  # Join tokens into strings\n",
    "vectorizer = TfidfVectorizer(max_features=1000)\n",
    "tfidf_matrix = vectorizer.fit_transform(processed_docs)\n",
    "\n",
    "# Step 2: Assign LDA topic to each document\n",
    "topic_assignments = []\n",
    "for bow in [dictionary.doc2bow(text) for text in texts]:\n",
    "    topic_probs = lda_model.get_document_topics(bow)\n",
    "    top_topic = max(topic_probs, key=lambda x: x[1])[0]  # Most probable topic\n",
    "    topic_assignments.append(top_topic)\n",
    "\n",
    "labels = np.array(topic_assignments)\n",
    "\n",
    "# Step 3: Compute Silhouette Score\n",
    "if np.unique(labels).size > 1:\n",
    "    sil_score = silhouette_score(tfidf_matrix, labels)\n",
    "    print(\"📈 Silhouette Score (LDA + TF-IDF):\", round(sil_score, 4))\n",
    "else:\n",
    "    print(\"⚠️ Not enough distinct topics for Silhouette Score.\")"
   ]
  },
  {
   "cell_type": "code",
   "execution_count": null,
   "id": "ea40ca64-df03-4eef-b603-62af8095ec80",
   "metadata": {},
   "outputs": [],
   "source": [
    "from gensim import corpora, models\n",
    "\n",
    "# Create dictionary and corpus\n",
    "dictionary = corpora.Dictionary(texts)\n",
    "bow_corpus = [dictionary.doc2bow(text) for text in texts]\n",
    "\n",
    "# Train LDA model\n",
    "lda_model = models.LdaModel(\n",
    "    corpus=bow_corpus,\n",
    "    id2word=dictionary,\n",
    "    num_topics=6,\n",
    "    passes=10,\n",
    "    iterations=150,\n",
    "    alpha='symmetric',\n",
    "    eta='auto',\n",
    "    random_state=42,\n",
    "    per_word_topics=True\n",
    ")"
   ]
  },
  {
   "cell_type": "code",
   "execution_count": null,
   "id": "86cbf2aa-17fa-4747-9038-246907f110f5",
   "metadata": {},
   "outputs": [],
   "source": [
    "# Customize this mapping based on your dataset\n",
    "user_type_accounts = {\n",
    "    0: 'Professional',\n",
    "    1: 'soc.religion.christian',\n",
    "    2: 'rec.sport.baseball',\n",
    "    3: 'Mixed Type',\n",
    "    4: 'Celebrity',\n",
    "    5: 'talk.politics.misc'\n",
    "}"
   ]
  },
  {
   "cell_type": "code",
   "execution_count": null,
   "id": "359a214e-0cc1-43b9-9811-07af119859b2",
   "metadata": {},
   "outputs": [],
   "source": [
    "# Get dominant topic\n",
    "topic_predictions = [lda_model.get_document_topics(doc, minimum_probability=0.1) for doc in bow_corpus]\n",
    "\n",
    "# Predict user type based on dominant topicsdf\n",
    "user_type_account_predictions = []\n",
    "\n",
    "for topic_dist in topic_predictions:\n",
    "    if topic_dist:\n",
    "        dominant_topic = max(topic_dist, key=lambda x: x[1])[0]\n",
    "    else:\n",
    "        dominant_topic = -1  # Handle empty case\n",
    "    user_type = user_type_accounts.get(dominant_topic, 'Unknown')\n",
    "    user_type_account_predictions.append(user_type)\n",
    "\n",
    "# Add to dataframe\n",
    "df['predicted_user_type'] = user_type_account_predictions"
   ]
  },
  {
   "cell_type": "code",
   "execution_count": null,
   "id": "f93eb4cd-e97c-4584-8b3b-e9e8a32d50d1",
   "metadata": {},
   "outputs": [],
   "source": [
    "from sklearn.preprocessing import LabelEncoder\n",
    "\n",
    "label_encoder = LabelEncoder()\n",
    "df['topic_label'] = label_encoder.fit_transform(df['predicted_user_type'])\n",
    "\n",
    "# Extract the label array for training\n",
    "y = df['topic_label'].values"
   ]
  },
  {
   "cell_type": "code",
   "execution_count": null,
   "id": "ddc24d05-7f4e-4c6c-bf2c-94b805e16c4a",
   "metadata": {},
   "outputs": [],
   "source": [
    "import numpy as np\n",
    "\n",
    "# Each document → topic distribution vector\n",
    "corpus_bow = [dictionary.doc2bow(text) for text in texts]\n",
    "topic_distributions = []\n",
    "\n",
    "for doc_bow in corpus_bow:\n",
    "    topic_dist = lda_model.get_document_topics(doc_bow, minimum_probability=0.0)\n",
    "    topic_vector = [prob for _, prob in topic_dist]\n",
    "    topic_distributions.append(topic_vector)\n",
    "\n",
    "X = np.array(topic_distributions)"
   ]
  },
  {
   "cell_type": "code",
   "execution_count": null,
   "id": "1b4a43a2-d557-480b-9333-e35e0e7b6c8f",
   "metadata": {},
   "outputs": [
    {
     "name": "stdout",
     "output_type": "stream",
     "text": [
      "📊 Logistic Regression Accuracy: 0.9673\n",
      "\n",
      "📝 Classification Report (Logistic Regression):\n",
      "\n",
      "              precision    recall  f1-score   support\n",
      "\n",
      "           0       0.97      0.94      0.95       616\n",
      "           1       0.95      0.99      0.97       672\n",
      "           2       0.99      0.96      0.98       698\n",
      "           3       0.98      0.97      0.98       685\n",
      "           4       0.97      0.97      0.97       714\n",
      "           5       0.93      0.98      0.96       615\n",
      "\n",
      "    accuracy                           0.97      4000\n",
      "   macro avg       0.97      0.97      0.97      4000\n",
      "weighted avg       0.97      0.97      0.97      4000\n",
      "\n"
     ]
    }
   ],
   "source": [
    "from sklearn.model_selection import train_test_split\n",
    "from sklearn.linear_model import LogisticRegression\n",
    "from sklearn.metrics import accuracy_score, classification_report\n",
    "\n",
    "X_train, X_test, y_train, y_test = train_test_split(X, y, test_size=0.2, random_state=42)\n",
    "log_reg = LogisticRegression(max_iter=1000, random_state=42)\n",
    "log_reg.fit(X_train, y_train)\n",
    "y_pred_log = log_reg.predict(X_test)\n",
    "\n",
    "print(\"📊 Logistic Regression Accuracy:\", round(accuracy_score(y_test, y_pred_log), 4))\n",
    "print(\"\\n📝 Classification Report (Logistic Regression):\\n\")\n",
    "print(classification_report(y_test, y_pred_log))"
   ]
  },
  {
   "cell_type": "code",
   "execution_count": null,
   "id": "4d76cd72-3d48-4ee4-afb2-3339ce86a5de",
   "metadata": {},
   "outputs": [],
   "source": [
    "%history -f majorproj.py"
   ]
  }
 ],
 "metadata": {
  "kernelspec": {
   "display_name": "MyNewVenv",
   "language": "python",
   "name": "mynewvenv"
  },
  "language_info": {
   "codemirror_mode": {
    "name": "ipython",
    "version": 3
   },
   "file_extension": ".py",
   "mimetype": "text/x-python",
   "name": "python",
   "nbconvert_exporter": "python",
   "pygments_lexer": "ipython3",
   "version": "3.11.8"
  }
 },
 "nbformat": 4,
 "nbformat_minor": 5
}
